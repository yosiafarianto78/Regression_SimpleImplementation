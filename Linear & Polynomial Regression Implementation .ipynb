{
 "cells": [
  {
   "cell_type": "code",
   "execution_count": 8,
   "id": "prescription-practitioner",
   "metadata": {},
   "outputs": [
    {
     "data": {
      "text/html": [
       "<div>\n",
       "<style scoped>\n",
       "    .dataframe tbody tr th:only-of-type {\n",
       "        vertical-align: middle;\n",
       "    }\n",
       "\n",
       "    .dataframe tbody tr th {\n",
       "        vertical-align: top;\n",
       "    }\n",
       "\n",
       "    .dataframe thead th {\n",
       "        text-align: right;\n",
       "    }\n",
       "</style>\n",
       "<table border=\"1\" class=\"dataframe\">\n",
       "  <thead>\n",
       "    <tr style=\"text-align: right;\">\n",
       "      <th></th>\n",
       "      <th>percent</th>\n",
       "      <th>average-flow(L/min)-Fluke</th>\n",
       "      <th>std_dev-Fluke</th>\n",
       "      <th>average-flow(L/min)-Sensirion</th>\n",
       "      <th>std_dev-Sensirion</th>\n",
       "    </tr>\n",
       "  </thead>\n",
       "  <tbody>\n",
       "    <tr>\n",
       "      <th>0</th>\n",
       "      <td>0</td>\n",
       "      <td>-0.00538</td>\n",
       "      <td>0.010356</td>\n",
       "      <td>0.027115</td>\n",
       "      <td>0.008844</td>\n",
       "    </tr>\n",
       "    <tr>\n",
       "      <th>1</th>\n",
       "      <td>10</td>\n",
       "      <td>30.79568</td>\n",
       "      <td>0.220888</td>\n",
       "      <td>27.981859</td>\n",
       "      <td>0.278657</td>\n",
       "    </tr>\n",
       "    <tr>\n",
       "      <th>2</th>\n",
       "      <td>20</td>\n",
       "      <td>54.66474</td>\n",
       "      <td>0.893222</td>\n",
       "      <td>49.813137</td>\n",
       "      <td>0.538031</td>\n",
       "    </tr>\n",
       "    <tr>\n",
       "      <th>3</th>\n",
       "      <td>30</td>\n",
       "      <td>75.79554</td>\n",
       "      <td>0.722840</td>\n",
       "      <td>71.491416</td>\n",
       "      <td>0.855897</td>\n",
       "    </tr>\n",
       "    <tr>\n",
       "      <th>4</th>\n",
       "      <td>40</td>\n",
       "      <td>94.53316</td>\n",
       "      <td>0.860254</td>\n",
       "      <td>88.083492</td>\n",
       "      <td>1.639698</td>\n",
       "    </tr>\n",
       "    <tr>\n",
       "      <th>5</th>\n",
       "      <td>50</td>\n",
       "      <td>113.41010</td>\n",
       "      <td>0.994574</td>\n",
       "      <td>108.806619</td>\n",
       "      <td>1.844541</td>\n",
       "    </tr>\n",
       "    <tr>\n",
       "      <th>6</th>\n",
       "      <td>60</td>\n",
       "      <td>132.40390</td>\n",
       "      <td>1.295995</td>\n",
       "      <td>125.364054</td>\n",
       "      <td>2.007689</td>\n",
       "    </tr>\n",
       "    <tr>\n",
       "      <th>7</th>\n",
       "      <td>70</td>\n",
       "      <td>149.86704</td>\n",
       "      <td>1.660393</td>\n",
       "      <td>139.420435</td>\n",
       "      <td>2.427043</td>\n",
       "    </tr>\n",
       "    <tr>\n",
       "      <th>8</th>\n",
       "      <td>80</td>\n",
       "      <td>165.25638</td>\n",
       "      <td>2.063677</td>\n",
       "      <td>153.832195</td>\n",
       "      <td>2.610911</td>\n",
       "    </tr>\n",
       "    <tr>\n",
       "      <th>9</th>\n",
       "      <td>90</td>\n",
       "      <td>178.85758</td>\n",
       "      <td>2.419309</td>\n",
       "      <td>166.290982</td>\n",
       "      <td>2.443631</td>\n",
       "    </tr>\n",
       "    <tr>\n",
       "      <th>10</th>\n",
       "      <td>100</td>\n",
       "      <td>183.12862</td>\n",
       "      <td>2.519267</td>\n",
       "      <td>169.857681</td>\n",
       "      <td>2.423169</td>\n",
       "    </tr>\n",
       "  </tbody>\n",
       "</table>\n",
       "</div>"
      ],
      "text/plain": [
       "    percent  average-flow(L/min)-Fluke  std_dev-Fluke  \\\n",
       "0         0                   -0.00538       0.010356   \n",
       "1        10                   30.79568       0.220888   \n",
       "2        20                   54.66474       0.893222   \n",
       "3        30                   75.79554       0.722840   \n",
       "4        40                   94.53316       0.860254   \n",
       "5        50                  113.41010       0.994574   \n",
       "6        60                  132.40390       1.295995   \n",
       "7        70                  149.86704       1.660393   \n",
       "8        80                  165.25638       2.063677   \n",
       "9        90                  178.85758       2.419309   \n",
       "10      100                  183.12862       2.519267   \n",
       "\n",
       "    average-flow(L/min)-Sensirion  std_dev-Sensirion  \n",
       "0                        0.027115           0.008844  \n",
       "1                       27.981859           0.278657  \n",
       "2                       49.813137           0.538031  \n",
       "3                       71.491416           0.855897  \n",
       "4                       88.083492           1.639698  \n",
       "5                      108.806619           1.844541  \n",
       "6                      125.364054           2.007689  \n",
       "7                      139.420435           2.427043  \n",
       "8                      153.832195           2.610911  \n",
       "9                      166.290982           2.443631  \n",
       "10                     169.857681           2.423169  "
      ]
     },
     "execution_count": 8,
     "metadata": {},
     "output_type": "execute_result"
    }
   ],
   "source": [
    "import pandas as pd\n",
    "dataset = pd.read_csv('sensirion_fluke.csv')\n",
    "dataset"
   ]
  },
  {
   "cell_type": "code",
   "execution_count": 9,
   "id": "center-halloween",
   "metadata": {},
   "outputs": [
    {
     "data": {
      "text/plain": [
       "(11, 5)"
      ]
     },
     "execution_count": 9,
     "metadata": {},
     "output_type": "execute_result"
    }
   ],
   "source": [
    "# melihat ukuran data\n",
    "dataset.shape"
   ]
  },
  {
   "cell_type": "code",
   "execution_count": 13,
   "id": "portuguese-november",
   "metadata": {},
   "outputs": [
    {
     "data": {
      "text/plain": [
       "<AxesSubplot:xlabel='average-flow(L/min)-Fluke', ylabel='average-flow(L/min)-Sensirion'>"
      ]
     },
     "execution_count": 13,
     "metadata": {},
     "output_type": "execute_result"
    },
    {
     "data": {
      "image/png": "[encoded data removed]",
      "text/plain": [
       "<Figure size 432x288 with 1 Axes>"
      ]
     },
     "metadata": {
      "needs_background": "light"
     },
     "output_type": "display_data"
    }
   ],
   "source": [
    "# melihat grafik average flow fluke dan average flow sensirion\n",
    "import matplotlib as plt\n",
    "dataset.plot(kind='scatter', x ='average-flow(L/min)-Fluke', y='average-flow(L/min)-Sensirion')"
   ]
  },
  {
   "cell_type": "code",
   "execution_count": 14,
   "id": "japanese-reggae",
   "metadata": {},
   "outputs": [
    {
     "data": {
      "text/plain": [
       "<AxesSubplot:xlabel='percent', ylabel='average-flow(L/min)-Sensirion'>"
      ]
     },
     "execution_count": 14,
     "metadata": {},
     "output_type": "execute_result"
    },
    {
     "data": {
      "image/png": "[encoded data removed]",
      "text/plain": [
       "<Figure size 432x288 with 1 Axes>"
      ]
     },
     "metadata": {
      "needs_background": "light"
     },
     "output_type": "display_data"
    }
   ],
   "source": [
    "#  melihat grafik percent dan average flow sensirion\n",
    "dataset.plot(kind='scatter', x ='percent', y='average-flow(L/min)-Sensirion')"
   ]
  },
  {
   "cell_type": "code",
   "execution_count": 15,
   "id": "introductory-lithuania",
   "metadata": {},
   "outputs": [],
   "source": [
    "# membuat semua elemen menjadi sebuah array\n",
    "average_flow_fluke= dataset['average-flow(L/min)-Fluke'].values"
   ]
  },
  {
   "cell_type": "code",
   "execution_count": 16,
   "id": "czech-strength",
   "metadata": {},
   "outputs": [
    {
     "data": {
      "text/plain": [
       "array([[-5.3800000e-03],\n",
       "       [ 3.0795680e+01],\n",
       "       [ 5.4664740e+01],\n",
       "       [ 7.5795540e+01],\n",
       "       [ 9.4533160e+01],\n",
       "       [ 1.1341010e+02],\n",
       "       [ 1.3240390e+02],\n",
       "       [ 1.4986704e+02],\n",
       "       [ 1.6525638e+02],\n",
       "       [ 1.7885758e+02],\n",
       "       [ 1.8312862e+02]])"
      ]
     },
     "execution_count": 16,
     "metadata": {},
     "output_type": "execute_result"
    }
   ],
   "source": [
    "# membuat tiap elemen menjadi array per indeks\n",
    "average_flow_fluke = average_flow_fluke.reshape(-1,1)\n",
    "average_flow_fluke"
   ]
  },
  {
   "cell_type": "code",
   "execution_count": 17,
   "id": "regulation-router",
   "metadata": {},
   "outputs": [
    {
     "data": {
      "text/plain": [
       "array([2.71153850e-02, 2.79818590e+01, 4.98131372e+01, 7.14914159e+01,\n",
       "       8.80834921e+01, 1.08806619e+02, 1.25364054e+02, 1.39420435e+02,\n",
       "       1.53832195e+02, 1.66290982e+02, 1.69857681e+02])"
      ]
     },
     "execution_count": 17,
     "metadata": {},
     "output_type": "execute_result"
    }
   ],
   "source": [
    "average_flow_sensirion = dataset['average-flow(L/min)-Sensirion'].values\n",
    "average_flow_sensirion"
   ]
  },
  {
   "cell_type": "code",
   "execution_count": 18,
   "id": "younger-david",
   "metadata": {},
   "outputs": [],
   "source": [
    "percent = dataset['percent'].values\n"
   ]
  },
  {
   "cell_type": "code",
   "execution_count": 19,
   "id": "vocational-spelling",
   "metadata": {},
   "outputs": [
    {
     "data": {
      "text/plain": [
       "array([[  0],\n",
       "       [ 10],\n",
       "       [ 20],\n",
       "       [ 30],\n",
       "       [ 40],\n",
       "       [ 50],\n",
       "       [ 60],\n",
       "       [ 70],\n",
       "       [ 80],\n",
       "       [ 90],\n",
       "       [100]], dtype=int64)"
      ]
     },
     "execution_count": 19,
     "metadata": {},
     "output_type": "execute_result"
    }
   ],
   "source": [
    "percent = percent.reshape(-1,1)\n",
    "percent"
   ]
  },
  {
   "cell_type": "code",
   "execution_count": 20,
   "id": "satellite-cursor",
   "metadata": {},
   "outputs": [],
   "source": [
    "# membuat model \n",
    "from sklearn.linear_model import LinearRegression\n"
   ]
  },
  {
   "cell_type": "code",
   "execution_count": 21,
   "id": "polished-arthritis",
   "metadata": {},
   "outputs": [],
   "source": [
    "# memasukkan input dan output\n",
    "linreg_fluke_sensirion = LinearRegression().fit(average_flow_fluke,average_flow_sensirion)\n"
   ]
  },
  {
   "cell_type": "code",
   "execution_count": 27,
   "id": "young-counter",
   "metadata": {},
   "outputs": [],
   "source": [
    "linreg_percent_sensirion = LinearRegression().fit(percent, average_flow_sensirion)"
   ]
  },
  {
   "cell_type": "code",
   "execution_count": 32,
   "id": "falling-harmony",
   "metadata": {},
   "outputs": [
    {
     "data": {
      "text/plain": [
       "array([0.93307304])"
      ]
     },
     "execution_count": 32,
     "metadata": {},
     "output_type": "execute_result"
    }
   ],
   "source": [
    "# y = mx + b\n",
    "# coefisien untuk linear regression fluke sensirion\n",
    "linreg_fluke_sensirion.coef_"
   ]
  },
  {
   "cell_type": "code",
   "execution_count": 33,
   "id": "proud-hierarchy",
   "metadata": {},
   "outputs": [
    {
     "data": {
      "text/plain": [
       "0.10444764093406889"
      ]
     },
     "execution_count": 33,
     "metadata": {},
     "output_type": "execute_result"
    }
   ],
   "source": [
    "#  intercept \n",
    "linreg_fluke_sensirion.intercept_"
   ]
  },
  {
   "cell_type": "code",
   "execution_count": 34,
   "id": "vital-folder",
   "metadata": {},
   "outputs": [
    {
     "data": {
      "text/plain": [
       "array([1.71598645])"
      ]
     },
     "execution_count": 34,
     "metadata": {},
     "output_type": "execute_result"
    }
   ],
   "source": [
    "linreg_percent_sensirion.coef_"
   ]
  },
  {
   "cell_type": "code",
   "execution_count": 35,
   "id": "strong-bubble",
   "metadata": {},
   "outputs": [
    {
     "data": {
      "text/plain": [
       "14.288767102954537"
      ]
     },
     "execution_count": 35,
     "metadata": {},
     "output_type": "execute_result"
    }
   ],
   "source": [
    "linreg_percent_sensirion.intercept_"
   ]
  },
  {
   "cell_type": "code",
   "execution_count": 36,
   "id": "contained-defense",
   "metadata": {},
   "outputs": [
    {
     "data": {
      "text/plain": [
       "array([9.94277080e-02, 2.88390664e+01, 5.11106429e+01, 7.08272227e+01,\n",
       "       8.83107908e+01, 1.05924355e+02, 1.23646957e+02, 1.39941342e+02,\n",
       "       1.54300721e+02, 1.66991634e+02, 1.70976826e+02])"
      ]
     },
     "execution_count": 36,
     "metadata": {},
     "output_type": "execute_result"
    }
   ],
   "source": [
    "# prediksi untuk fluke\n",
    "y_pred_fluke = linreg_fluke_sensirion.predict(average_flow_fluke)\n",
    "y_pred_fluke"
   ]
  },
  {
   "cell_type": "code",
   "execution_count": 37,
   "id": "residential-piano",
   "metadata": {},
   "outputs": [
    {
     "data": {
      "text/plain": [
       "array([ 0.10444764,  9.43517806, 18.76590847, 28.09663889, 37.4273693 ,\n",
       "       46.75809972, 56.08883014, 65.41956055, 74.75029097, 84.08102138,\n",
       "       93.4117518 ])"
      ]
     },
     "execution_count": 37,
     "metadata": {},
     "output_type": "execute_result"
    }
   ],
   "source": [
    "#  presiksi untuk percent\n",
    "y_pred_percent = linreg_fluke_sensirion.predict(percent)\n",
    "y_pred_percent"
   ]
  },
  {
   "cell_type": "code",
   "execution_count": 38,
   "id": "composed-controversy",
   "metadata": {},
   "outputs": [
    {
     "data": {
      "text/plain": [
       "<function matplotlib.pyplot.show(close=None, block=None)>"
      ]
     },
     "execution_count": 38,
     "metadata": {},
     "output_type": "execute_result"
    },
    {
     "data": {
      "image/png": "[encoded data removed]",
      "text/plain": [
       "<Figure size 432x288 with 1 Axes>"
      ]
     },
     "metadata": {
      "needs_background": "light"
     },
     "output_type": "display_data"
    }
   ],
   "source": [
    "# visualisasi linear regression average flow fluke dan average flow sensirion\n",
    "import matplotlib.pyplot as plt\n",
    "dataset.plot(kind='scatter', x ='average-flow(L/min)-Fluke', y='average-flow(L/min)-Sensirion')\n",
    "plt.plot(average_flow_fluke, y_pred_fluke, color='red', linewidth=2)\n",
    "plt.title('Linear Regression')\n",
    "plt.show"
   ]
  },
  {
   "cell_type": "code",
   "execution_count": 39,
   "id": "standing-closing",
   "metadata": {},
   "outputs": [
    {
     "data": {
      "text/plain": [
       "<function matplotlib.pyplot.show(close=None, block=None)>"
      ]
     },
     "execution_count": 39,
     "metadata": {},
     "output_type": "execute_result"
    },
    {
     "data": {
      "image/png": "[encoded data removed]",
      "text/plain": [
       "<Figure size 432x288 with 1 Axes>"
      ]
     },
     "metadata": {
      "needs_background": "light"
     },
     "output_type": "display_data"
    }
   ],
   "source": [
    "#  visualisasi linear regression percent dan average flow sensirion\n",
    "dataset.plot(kind='scatter', x ='percent', y='average-flow(L/min)-Sensirion')\n",
    "plt.plot(percent, y_pred_percent, color='red', linewidth=2)\n",
    "plt.show"
   ]
  },
  {
   "cell_type": "code",
   "execution_count": 40,
   "id": "stock-relevance",
   "metadata": {},
   "outputs": [],
   "source": [
    "# polynomial regression\n",
    "from sklearn.preprocessing import PolynomialFeatures\n",
    "\n",
    "polynom = PolynomialFeatures(degree= 2)\n",
    "poly_1 = polynom.fit_transform(average_flow_fluke)\n",
    "poly_2 = polynom.fit_transform(percent)\n"
   ]
  },
  {
   "cell_type": "code",
   "execution_count": 41,
   "id": "unlike-genealogy",
   "metadata": {},
   "outputs": [],
   "source": [
    "polyreg = LinearRegression()\n",
    "poly_fluke = polyreg.fit(poly_1, average_flow_sensirion)\n",
    "poly_percent = polyreg.fit(poly_2, average_flow_sensirion)"
   ]
  },
  {
   "cell_type": "code",
   "execution_count": 42,
   "id": "ethical-settlement",
   "metadata": {},
   "outputs": [
    {
     "data": {
      "text/plain": [
       "array([  0.91282726,  72.75637796, 116.80682857, 147.33339653,\n",
       "       167.74807794, 181.98948327, 189.91148558, 191.52380896,\n",
       "       188.44100406, 182.20394408, 179.56541605])"
      ]
     },
     "execution_count": 42,
     "metadata": {},
     "output_type": "execute_result"
    }
   ],
   "source": [
    "# prediksi polynomial\n",
    "poly_prediction_fluke = poly_fluke.predict(polynom.fit_transform(average_flow_fluke))\n",
    "poly_prediction_fluke\n",
    "                                     "
   ]
  },
  {
   "cell_type": "code",
   "execution_count": 43,
   "id": "similar-performer",
   "metadata": {},
   "outputs": [
    {
     "data": {
      "text/plain": [
       "array([  0.926852  ,  26.10386556,  49.49929044,  71.11312664,\n",
       "        90.94537416, 108.996033  , 125.26510316, 139.75258464,\n",
       "       152.45847744, 163.38278156, 172.52549699])"
      ]
     },
     "execution_count": 43,
     "metadata": {},
     "output_type": "execute_result"
    }
   ],
   "source": [
    "# prediksi polynomial\n",
    "poly_prediction_percent= poly_percent.predict(polynom.fit_transform(percent))\n",
    "poly_prediction_percent\n",
    "                          "
   ]
  },
  {
   "cell_type": "code",
   "execution_count": 44,
   "id": "palestinian-welcome",
   "metadata": {},
   "outputs": [
    {
     "data": {
      "text/plain": [
       "<function matplotlib.pyplot.show(close=None, block=None)>"
      ]
     },
     "execution_count": 44,
     "metadata": {},
     "output_type": "execute_result"
    },
    {
     "data": {
      "image/png": "[encoded data removed]",
      "text/plain": [
       "<Figure size 432x288 with 1 Axes>"
      ]
     },
     "metadata": {
      "needs_background": "light"
     },
     "output_type": "display_data"
    }
   ],
   "source": [
    "# visualisasi polynomial regression untuk average flow fluke dan average flow sensirion \n",
    "import matplotlib.pyplot as plt\n",
    "dataset.plot(kind='scatter', x ='average-flow(L/min)-Fluke', y='average-flow(L/min)-Sensirion')\n",
    "plt.plot(average_flow_fluke, poly_prediction_fluke, color='red', linewidth=2)\n",
    "plt.title('Polynomial Regression')\n",
    "plt.show"
   ]
  },
  {
   "cell_type": "code",
   "execution_count": 45,
   "id": "opposed-insider",
   "metadata": {
    "scrolled": true
   },
   "outputs": [
    {
     "data": {
      "text/plain": [
       "<function matplotlib.pyplot.show(close=None, block=None)>"
      ]
     },
     "execution_count": 45,
     "metadata": {},
     "output_type": "execute_result"
    },
    {
     "data": {
      "image/png": "[encoded data removed]",
      "text/plain": [
       "<Figure size 432x288 with 1 Axes>"
      ]
     },
     "metadata": {
      "needs_background": "light"
     },
     "output_type": "display_data"
    }
   ],
   "source": [
    "#  visualisasi polynomial regression untuk percent dan average flow sensirion\n",
    "dataset.plot(kind='scatter', x ='percent', y='average-flow(L/min)-Sensirion')\n",
    "plt.plot(percent, poly_prediction_percent, color='red', linewidth=2)\n",
    "plt.title('Polynomial Regression')\n",
    "plt.show"
   ]
  },
  {
   "cell_type": "markdown",
   "id": "thousand-evanescence",
   "metadata": {},
   "source": [
    "lihat score masing-masihng dengan menggunakan regresi yang berbeda"
   ]
  },
  {
   "cell_type": "code",
   "execution_count": 46,
   "id": "tired-steering",
   "metadata": {},
   "outputs": [],
   "source": [
    "average_flow_sensirion = average_flow_sensirion.reshape(-1,1)"
   ]
  },
  {
   "cell_type": "code",
   "execution_count": 47,
   "id": "revised-spanish",
   "metadata": {},
   "outputs": [
    {
     "data": {
      "text/plain": [
       "0.9995043642253753"
      ]
     },
     "execution_count": 47,
     "metadata": {},
     "output_type": "execute_result"
    }
   ],
   "source": [
    "# regresi score average flow fluke dan average flow sensirion menggunakan Linear Regression\n",
    "from sklearn import metrics\n",
    "linReg_score_fluke = metrics.r2_score(average_flow_sensirion,y_pred_fluke)\n",
    "linReg_score_fluke"
   ]
  },
  {
   "cell_type": "code",
   "execution_count": 48,
   "id": "finite-approval",
   "metadata": {},
   "outputs": [
    {
     "data": {
      "text/plain": [
       "0.02198304047717703"
      ]
     },
     "execution_count": 48,
     "metadata": {},
     "output_type": "execute_result"
    }
   ],
   "source": [
    "# regresi score percent dan average flow sensirion menggunakan Linear Regression\n",
    "\n",
    "linReg_score_percent = metrics.r2_score(average_flow_sensirion,poly_prediction_fluke)\n",
    "linReg_score_percent"
   ]
  },
  {
   "cell_type": "code",
   "execution_count": 49,
   "id": "current-director",
   "metadata": {},
   "outputs": [
    {
     "data": {
      "text/plain": [
       "-0.1702846225280623"
      ]
     },
     "execution_count": 49,
     "metadata": {},
     "output_type": "execute_result"
    }
   ],
   "source": [
    "# regresi score average flow fluke dan average flow sensirion menggunakan Polynomial Regression\n",
    "\n",
    "polyReg_score_fluke = metrics.r2_score(average_flow_sensirion,y_pred_percent)\n",
    "polyReg_score_fluke"
   ]
  },
  {
   "cell_type": "code",
   "execution_count": 50,
   "id": "vital-wallace",
   "metadata": {},
   "outputs": [
    {
     "data": {
      "text/plain": [
       "0.9990820376720094"
      ]
     },
     "execution_count": 50,
     "metadata": {},
     "output_type": "execute_result"
    }
   ],
   "source": [
    "# regresi score percent dan average flow sensirion menggunakan Polynomial Regression\n",
    "\n",
    "polyReg_score_percent = metrics.r2_score(average_flow_sensirion,poly_prediction_percent)\n",
    "polyReg_score_percent"
   ]
  },
  {
   "cell_type": "markdown",
   "id": "different-freeze",
   "metadata": {},
   "source": [
    "Kesimpulan \n",
    "\n",
    "1. Penggunaan Linear Regression antara average flow fluke dan average flow sensirion mempunyai tingkat akurasi yang lebih baik dibanding dengan menggunakan Polynomial Regression.\n",
    "2. Penggunaan Polynomial Regression antara percent dan average flow sensirion mempunyai tingkat akurasi yang lebih baik dibanding dengan menggunakan Linear Regression.\n",
    "3. Masing-masing regresi memiliki keunikan tersendiri dan dipakai kedalam kasus yang berbeda-beda sehingga menghasilkan hasil yang optimal. "
   ]
  }
 ],
 "metadata": {
  "kernelspec": {
   "display_name": "Python 3",
   "language": "python",
   "name": "python3"
  },
  "language_info": {
   "codemirror_mode": {
    "name": "ipython",
    "version": 3
   },
   "file_extension": ".py",
   "mimetype": "text/x-python",
   "name": "python",
   "nbconvert_exporter": "python",
   "pygments_lexer": "ipython3",
   "version": "3.9.1"
  }
 },
 "nbformat": 4,
 "nbformat_minor": 5
}
